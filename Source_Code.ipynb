{
  "nbformat": 4,
  "nbformat_minor": 0,
  "metadata": {
    "colab": {
      "provenance": [],
      "collapsed_sections": [
        "2mrxctECeWzW",
        "6LHCrAnQeZZk"
      ]
    },
    "kernelspec": {
      "name": "python3",
      "display_name": "Python 3"
    },
    "language_info": {
      "name": "python"
    }
  },
  "cells": [
    {
      "cell_type": "markdown",
      "source": [
        "#Task 1\n",
        "Calculating the Conditional Probability of each variable \"P(B)\", \"P(G|B)\", \n",
        "\"P(C)\", \"P(F|G,C)\"."
      ],
      "metadata": {
        "id": "2mrxctECeWzW"
      }
    },
    {
      "cell_type": "code",
      "source": [
        "import numpy as np\n",
        "\n",
        "# Load the training data\n",
        "training_data = np.loadtxt(\"training_data.txt\", dtype=int)\n",
        "\n",
        "# Initialize counts for each combination of parent and child node states\n",
        "Total_count = {\n",
        "    \"P(B)\": np.zeros(2), #initializes a array of length 2 to store the two elements the counts of B taking on the value 0 and the value 1, respectively.\n",
        "    \"P(G|B)\": np.zeros((2, 2)), #initializes a 2x2 array to store the counts of the variable G given the variable B. The two rows correspond to the possible values of B (0/1), and the two columns correspond to the possible values of G (0/1).\n",
        "    \"P(C)\": np.zeros(2),\n",
        "    \"P(F|G,C)\": np.zeros((2, 2, 2)), # initializes a 2x2x2 array to store the counts of the variable F given the variables G and C. The three dimensions of the array correspond to the possible values of G (0/1), the possible values of C (0/1), and the possible values of F (0/1).\n",
        "}\n",
        "\n",
        "# Iterate through each row of the training data\n",
        "for row in training_data:\n",
        "    b, g, c, f = row #values are assigned to each column when you go through each row\n",
        "\n",
        "    # Increment the counts for the corresponding parent-child node state combinations\n",
        "    Total_count[\"P(B)\"][b] += 1 #we increment the count of the combination \"P(B=b)\" by 1 in a row (b is 0/1)\n",
        "    Total_count[\"P(G|B)\"][b, g] += 1 #we increment the count of the combination \"P(G=g|B=b)\" by 1 in a row\n",
        "    Total_count[\"P(C)\"][c] += 1\n",
        "    Total_count[\"P(F|G,C)\"][g, c, f] += 1 #we increment the count of the combination \"P(F=f|G=g,C=c)\" by 1 in a row\n",
        "\n",
        "# Normalize the counts to obtain the conditional probabilities\n",
        "Conditional_probabilities = {} #estimated probabilities are stored in this dictionary\n",
        "for key, value in Total_count.items():\n",
        "    Conditional_probabilities[key] = value / value.sum(axis=-1, keepdims=True) #where the value is the estimated probability of that combination given the training data.i.e (number of counts/total no. of transaction)\n",
        "\n",
        "#print the conditional probability values of each variable\n",
        "print(\"Conditional Probability Table:\")\n",
        "for key, value in Conditional_probabilities.items():\n",
        "    print(key, value)\n",
        "    print(' ')"
      ],
      "metadata": {
        "colab": {
          "base_uri": "https://localhost:8080/"
        },
        "id": "M3zWbsBTGKea",
        "outputId": "38f32553-283e-41ed-b12e-fc2c17b64f00"
      },
      "execution_count": 1,
      "outputs": [
        {
          "output_type": "stream",
          "name": "stdout",
          "text": [
            "Conditional Probability Table:\n",
            "P(B) [0.69589041 0.30410959]\n",
            " \n",
            "P(G|B) [[0.88188976 0.11811024]\n",
            " [0.07207207 0.92792793]]\n",
            " \n",
            "P(C) [0.83013699 0.16986301]\n",
            " \n",
            "P(F|G,C) [[[0.04123711 0.95876289]\n",
            "  [0.68421053 0.31578947]]\n",
            "\n",
            " [[0.29357798 0.70642202]\n",
            "  [0.95833333 0.04166667]]]\n",
            " \n"
          ]
        }
      ]
    },
    {
      "cell_type": "markdown",
      "source": [
        "#Task 2\n",
        "Calculating the jpd of P(B=t, G=f, C=t, F=f)"
      ],
      "metadata": {
        "id": "6LHCrAnQeZZk"
      }
    },
    {
      "cell_type": "code",
      "source": [
        "# Define the specific combination of variable states for which to calculate the JPD\n",
        "state = {\"B\": 1, \"G\": 0, \"C\": 1, \"F\": 0}\n",
        "\n",
        "# Calculate the JPD for the specific combination of variable states\n",
        "jpd = Conditional_probabilities[\"P(B)\"][state[\"B\"]] * Conditional_probabilities[\"P(G|B)\"][state[\"B\"], state[\"G\"]] * Conditional_probabilities[\"P(C)\"][state[\"C\"]] * Conditional_probabilities[\"P(F|G,C)\"][state[\"G\"], state[\"C\"], state[\"F\"]]\n",
        "\n",
        "print(f\"P(B=t, G=f, C=t, F=f) = {jpd}\")"
      ],
      "metadata": {
        "colab": {
          "base_uri": "https://localhost:8080/"
        },
        "id": "4NWhcCeITD9A",
        "outputId": "9f2953d7-8a75-4cbb-c189-5d995a9ee129"
      },
      "execution_count": 2,
      "outputs": [
        {
          "output_type": "stream",
          "name": "stdout",
          "text": [
            "P(B=t, G=f, C=t, F=f) = 0.0025473328658482384\n"
          ]
        }
      ]
    },
    {
      "cell_type": "markdown",
      "source": [
        "#TASK 3\n",
        "to calculate the probabilty for 2 events using inference by enumeration.\n",
        "Event 1 - P(B=t, G=f | F=f).\n",
        "Event 2 - P(B=t, F=f)"
      ],
      "metadata": {
        "id": "KS9dDcCAzaOA"
      }
    },
    {
      "cell_type": "code",
      "source": [
        "# Define the specific combination of variable states for which to calculate the probability\n",
        "state1 = {\"B\": 1, \"G\": 0, \"F\": 0} #event 1\n",
        "state2 = {\"B\": 1, \"F\": 0} #event 2\n",
        "\n",
        "# Define the evidence\n",
        "evidence = {\"F\": 0} #f given\n",
        "\n",
        "# Calculate the probability for the first event given evidence\n",
        "numerator = 0\n",
        "denominator = 0\n",
        "\n",
        "#go over all possible combinations of B and G\n",
        "for b in [0, 1]:\n",
        "    for g in [0, 1]:\n",
        "        # Check if the combination matches the evidence\n",
        "        if state1[\"F\"] == evidence[\"F\"]:\n",
        "            # Calculate the numerator and denominator for the current combination\n",
        "            p = Conditional_probabilities[\"P(B)\"][b] * Conditional_probabilities[\"P(G|B)\"][b, g]\n",
        "            denominator += p\n",
        "            if b == state1[\"B\"] and g == state1[\"G\"]:\n",
        "                numerator = p\n",
        "\n",
        "# Calculate the probability of the event given the evidence\n",
        "probability1 = numerator / denominator\n",
        "\n",
        "\n",
        "# Calculate the probability for the second event given evidence\n",
        "numerator = 0\n",
        "denominator = 0\n",
        "\n",
        "# Enumerate over all possible combinations of B and F\n",
        "for b in [0, 1]:\n",
        "    for f in [0, 1]:\n",
        "        # Check if the combination matches the evidence\n",
        "        if state2[\"F\"] == evidence[\"F\"]:\n",
        "            # Calculate the numerator and denominator for the current combination\n",
        "            p = Conditional_probabilities[\"P(B)\"][b] * Conditional_probabilities[\"P(F|G,C)\"][0, 0, f] * Conditional_probabilities[\"P(C)\"][0] + Conditional_probabilities[\"P(B)\"][b] * Conditional_probabilities[\"P(F|G,C)\"][1, 0, f] * Conditional_probabilities[\"P(C)\"][1]\n",
        "            denominator += p\n",
        "            if b == state2[\"B\"] and f == state2[\"F\"]:\n",
        "                numerator = p\n",
        "\n",
        "# Calculate the probability of the event given the evidence\n",
        "probability2 = numerator / denominator\n",
        "\n",
        "# Print the results\n",
        "print(f\"P(B=t, G=f | F=f) = {probability1}\")\n",
        "print(f\"P(B=t, F=f) = {probability2}\")\n"
      ],
      "metadata": {
        "colab": {
          "base_uri": "https://localhost:8080/"
        },
        "id": "oyfZh4bM18Uo",
        "outputId": "d72c0424-dca4-489b-aa38-e16f65309afe"
      },
      "execution_count": 3,
      "outputs": [
        {
          "output_type": "stream",
          "name": "stdout",
          "text": [
            "P(B=t, G=f | F=f) = 0.021917808219178082\n",
            "P(B=t, F=f) = 0.02557576659618177\n"
          ]
        }
      ]
    }
  ]
}